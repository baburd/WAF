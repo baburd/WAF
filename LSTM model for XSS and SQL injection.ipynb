{
 "cells": [
  {
   "cell_type": "code",
   "execution_count": 1,
   "id": "d9aea7ab",
   "metadata": {},
   "outputs": [],
   "source": [
    "import numpy as np\n",
    "import pandas as pd\n",
    "import matplotlib.pyplot as plt\n",
    "\n",
    "import seaborn as sns; sns.set()"
   ]
  },
  {
   "cell_type": "code",
   "execution_count": 2,
   "id": "4fceba9b",
   "metadata": {},
   "outputs": [],
   "source": [
    "from keras.models import Sequential, load_model\n",
    "from keras.layers import Dense, LSTM, Bidirectional\n",
    "from keras.utils import plot_model\n",
    "from keras.utils.np_utils import to_categorical\n",
    "from keras.utils import np_utils\n",
    "\n",
    "from sklearn.model_selection import train_test_split\n",
    "from sklearn.preprocessing import LabelEncoder, StandardScaler\n",
    "from sklearn.metrics import confusion_matrix\n"
   ]
  },
  {
   "cell_type": "code",
   "execution_count": 3,
   "id": "393680d7",
   "metadata": {},
   "outputs": [],
   "source": [
    "number_of_samples = 5700"
   ]
  },
  {
   "cell_type": "code",
   "execution_count": 4,
   "id": "3913a1f8",
   "metadata": {},
   "outputs": [],
   "source": [
    "data_good = pd.read_csv('C:/Users/Dell/Desktop/Data/good.csv')"
   ]
  },
  {
   "cell_type": "code",
   "execution_count": 5,
   "id": "cd6f3a71",
   "metadata": {},
   "outputs": [],
   "source": [
    "data_bad=pd.read_csv('C:/Users/Dell/Desktop/Data/bad1.csv')"
   ]
  },
  {
   "cell_type": "code",
   "execution_count": 6,
   "id": "7328fa3b",
   "metadata": {},
   "outputs": [],
   "source": [
    " data_good.columns=[ 'Method','path','body','single_q','double_q','dashes','braces','spaces','badwords','class']\n",
    " data_bad.columns=[ 'Method','path','body','single_q','double_q','dashes','braces','spaces','badwords','class']"
   ]
  },
  {
   "cell_type": "code",
   "execution_count": 7,
   "id": "21a966b8",
   "metadata": {
    "scrolled": true
   },
   "outputs": [
    {
     "data": {
      "text/html": [
       "<div>\n",
       "<style scoped>\n",
       "    .dataframe tbody tr th:only-of-type {\n",
       "        vertical-align: middle;\n",
       "    }\n",
       "\n",
       "    .dataframe tbody tr th {\n",
       "        vertical-align: top;\n",
       "    }\n",
       "\n",
       "    .dataframe thead th {\n",
       "        text-align: right;\n",
       "    }\n",
       "</style>\n",
       "<table border=\"1\" class=\"dataframe\">\n",
       "  <thead>\n",
       "    <tr style=\"text-align: right;\">\n",
       "      <th></th>\n",
       "      <th>Method</th>\n",
       "      <th>path</th>\n",
       "      <th>body</th>\n",
       "      <th>single_q</th>\n",
       "      <th>double_q</th>\n",
       "      <th>dashes</th>\n",
       "      <th>braces</th>\n",
       "      <th>spaces</th>\n",
       "      <th>badwords</th>\n",
       "      <th>class</th>\n",
       "    </tr>\n",
       "  </thead>\n",
       "  <tbody>\n",
       "    <tr>\n",
       "      <th>0</th>\n",
       "      <td>GET</td>\n",
       "      <td>/vulnerabilities/sqli/?id=%27union+select+%40%...</td>\n",
       "      <td>NaN</td>\n",
       "      <td>1</td>\n",
       "      <td>0</td>\n",
       "      <td>0</td>\n",
       "      <td>0</td>\n",
       "      <td>2</td>\n",
       "      <td>2</td>\n",
       "      <td>bad</td>\n",
       "    </tr>\n",
       "    <tr>\n",
       "      <th>1</th>\n",
       "      <td>GET</td>\n",
       "      <td>/pubapi/3.0/11526.1/4938388/0/0/ADTECH;v=2;cmd...</td>\n",
       "      <td>NaN</td>\n",
       "      <td>0</td>\n",
       "      <td>0</td>\n",
       "      <td>0</td>\n",
       "      <td>0</td>\n",
       "      <td>0</td>\n",
       "      <td>0</td>\n",
       "      <td>bad</td>\n",
       "    </tr>\n",
       "    <tr>\n",
       "      <th>2</th>\n",
       "      <td>GET</td>\n",
       "      <td>/vulnerabilities/sqli/?id=SELECT+current_user%...</td>\n",
       "      <td>NaN</td>\n",
       "      <td>0</td>\n",
       "      <td>0</td>\n",
       "      <td>0</td>\n",
       "      <td>0</td>\n",
       "      <td>1</td>\n",
       "      <td>0</td>\n",
       "      <td>bad</td>\n",
       "    </tr>\n",
       "    <tr>\n",
       "      <th>3</th>\n",
       "      <td>GET</td>\n",
       "      <td>/hb?pt=net&amp;auids=9701%2C9698&amp;sizes=970x250%2C3...</td>\n",
       "      <td>NaN</td>\n",
       "      <td>0</td>\n",
       "      <td>0</td>\n",
       "      <td>0</td>\n",
       "      <td>0</td>\n",
       "      <td>0</td>\n",
       "      <td>1</td>\n",
       "      <td>bad</td>\n",
       "    </tr>\n",
       "    <tr>\n",
       "      <th>4</th>\n",
       "      <td>POST</td>\n",
       "      <td>/translator?source=prebid-client</td>\n",
       "      <td>NaN</td>\n",
       "      <td>0</td>\n",
       "      <td>0</td>\n",
       "      <td>0</td>\n",
       "      <td>0</td>\n",
       "      <td>0</td>\n",
       "      <td>0</td>\n",
       "      <td>bad</td>\n",
       "    </tr>\n",
       "    <tr>\n",
       "      <th>...</th>\n",
       "      <td>...</td>\n",
       "      <td>...</td>\n",
       "      <td>...</td>\n",
       "      <td>...</td>\n",
       "      <td>...</td>\n",
       "      <td>...</td>\n",
       "      <td>...</td>\n",
       "      <td>...</td>\n",
       "      <td>...</td>\n",
       "      <td>...</td>\n",
       "    </tr>\n",
       "    <tr>\n",
       "      <th>5733</th>\n",
       "      <td>GET</td>\n",
       "      <td>/dvwa/vulnerabilities/xss_r/?name=penis&amp;user_t...</td>\n",
       "      <td>NaN</td>\n",
       "      <td>0</td>\n",
       "      <td>0</td>\n",
       "      <td>0</td>\n",
       "      <td>0</td>\n",
       "      <td>0</td>\n",
       "      <td>0</td>\n",
       "      <td>bad</td>\n",
       "    </tr>\n",
       "    <tr>\n",
       "      <th>5734</th>\n",
       "      <td>GET</td>\n",
       "      <td>/dvwa/vulnerabilities/xss_r/?name=rabbit&amp;user_...</td>\n",
       "      <td>NaN</td>\n",
       "      <td>0</td>\n",
       "      <td>0</td>\n",
       "      <td>0</td>\n",
       "      <td>0</td>\n",
       "      <td>0</td>\n",
       "      <td>0</td>\n",
       "      <td>bad</td>\n",
       "    </tr>\n",
       "    <tr>\n",
       "      <th>5735</th>\n",
       "      <td>GET</td>\n",
       "      <td>/dvwa/vulnerabilities/xss_r/?name=apollo&amp;user_...</td>\n",
       "      <td>NaN</td>\n",
       "      <td>0</td>\n",
       "      <td>0</td>\n",
       "      <td>0</td>\n",
       "      <td>0</td>\n",
       "      <td>0</td>\n",
       "      <td>0</td>\n",
       "      <td>bad</td>\n",
       "    </tr>\n",
       "    <tr>\n",
       "      <th>5736</th>\n",
       "      <td>GET</td>\n",
       "      <td>/dvwa/vulnerabilities/xss_r/?name=fucking&amp;user...</td>\n",
       "      <td>NaN</td>\n",
       "      <td>0</td>\n",
       "      <td>0</td>\n",
       "      <td>0</td>\n",
       "      <td>0</td>\n",
       "      <td>0</td>\n",
       "      <td>0</td>\n",
       "      <td>bad</td>\n",
       "    </tr>\n",
       "    <tr>\n",
       "      <th>5737</th>\n",
       "      <td>GET</td>\n",
       "      <td>/dvwa/vulnerabilities/xss_r/?name=little&amp;user_...</td>\n",
       "      <td>NaN</td>\n",
       "      <td>0</td>\n",
       "      <td>0</td>\n",
       "      <td>0</td>\n",
       "      <td>0</td>\n",
       "      <td>0</td>\n",
       "      <td>0</td>\n",
       "      <td>bad</td>\n",
       "    </tr>\n",
       "  </tbody>\n",
       "</table>\n",
       "<p>5738 rows × 10 columns</p>\n",
       "</div>"
      ],
      "text/plain": [
       "     Method                                               path  body  \\\n",
       "0       GET  /vulnerabilities/sqli/?id=%27union+select+%40%...   NaN   \n",
       "1       GET  /pubapi/3.0/11526.1/4938388/0/0/ADTECH;v=2;cmd...   NaN   \n",
       "2       GET  /vulnerabilities/sqli/?id=SELECT+current_user%...   NaN   \n",
       "3       GET  /hb?pt=net&auids=9701%2C9698&sizes=970x250%2C3...   NaN   \n",
       "4      POST                   /translator?source=prebid-client   NaN   \n",
       "...     ...                                                ...   ...   \n",
       "5733    GET  /dvwa/vulnerabilities/xss_r/?name=penis&user_t...   NaN   \n",
       "5734    GET  /dvwa/vulnerabilities/xss_r/?name=rabbit&user_...   NaN   \n",
       "5735    GET  /dvwa/vulnerabilities/xss_r/?name=apollo&user_...   NaN   \n",
       "5736    GET  /dvwa/vulnerabilities/xss_r/?name=fucking&user...   NaN   \n",
       "5737    GET  /dvwa/vulnerabilities/xss_r/?name=little&user_...   NaN   \n",
       "\n",
       "      single_q  double_q  dashes  braces  spaces  badwords class  \n",
       "0            1         0       0       0       2         2   bad  \n",
       "1            0         0       0       0       0         0   bad  \n",
       "2            0         0       0       0       1         0   bad  \n",
       "3            0         0       0       0       0         1   bad  \n",
       "4            0         0       0       0       0         0   bad  \n",
       "...        ...       ...     ...     ...     ...       ...   ...  \n",
       "5733         0         0       0       0       0         0   bad  \n",
       "5734         0         0       0       0       0         0   bad  \n",
       "5735         0         0       0       0       0         0   bad  \n",
       "5736         0         0       0       0       0         0   bad  \n",
       "5737         0         0       0       0       0         0   bad  \n",
       "\n",
       "[5738 rows x 10 columns]"
      ]
     },
     "execution_count": 7,
     "metadata": {},
     "output_type": "execute_result"
    }
   ],
   "source": [
    " data_bad"
   ]
  },
  {
   "cell_type": "code",
   "execution_count": 8,
   "id": "c160f687",
   "metadata": {},
   "outputs": [],
   "source": [
    "data_good=data_good.drop(labels=['Method','path','body'],axis=1)\n",
    "data_bad=data_bad.drop(labels=['Method','path','body'],axis=1)"
   ]
  },
  {
   "cell_type": "code",
   "execution_count": 9,
   "id": "a20f96c2",
   "metadata": {},
   "outputs": [],
   "source": [
    "features=['single_q','double_q','dashes','braces','spaces','badwords']\n",
    "\n"
   ]
  },
  {
   "cell_type": "code",
   "execution_count": 10,
   "id": "14022a9c",
   "metadata": {},
   "outputs": [
    {
     "data": {
      "text/html": [
       "<div>\n",
       "<style scoped>\n",
       "    .dataframe tbody tr th:only-of-type {\n",
       "        vertical-align: middle;\n",
       "    }\n",
       "\n",
       "    .dataframe tbody tr th {\n",
       "        vertical-align: top;\n",
       "    }\n",
       "\n",
       "    .dataframe thead th {\n",
       "        text-align: right;\n",
       "    }\n",
       "</style>\n",
       "<table border=\"1\" class=\"dataframe\">\n",
       "  <thead>\n",
       "    <tr style=\"text-align: right;\">\n",
       "      <th></th>\n",
       "      <th>single_q</th>\n",
       "      <th>double_q</th>\n",
       "      <th>dashes</th>\n",
       "      <th>braces</th>\n",
       "      <th>spaces</th>\n",
       "      <th>badwords</th>\n",
       "      <th>class</th>\n",
       "    </tr>\n",
       "  </thead>\n",
       "  <tbody>\n",
       "    <tr>\n",
       "      <th>0</th>\n",
       "      <td>0</td>\n",
       "      <td>0</td>\n",
       "      <td>0</td>\n",
       "      <td>0</td>\n",
       "      <td>0</td>\n",
       "      <td>0</td>\n",
       "      <td>good</td>\n",
       "    </tr>\n",
       "    <tr>\n",
       "      <th>1</th>\n",
       "      <td>0</td>\n",
       "      <td>0</td>\n",
       "      <td>0</td>\n",
       "      <td>0</td>\n",
       "      <td>0</td>\n",
       "      <td>0</td>\n",
       "      <td>good</td>\n",
       "    </tr>\n",
       "    <tr>\n",
       "      <th>2</th>\n",
       "      <td>0</td>\n",
       "      <td>0</td>\n",
       "      <td>0</td>\n",
       "      <td>0</td>\n",
       "      <td>0</td>\n",
       "      <td>0</td>\n",
       "      <td>good</td>\n",
       "    </tr>\n",
       "    <tr>\n",
       "      <th>3</th>\n",
       "      <td>0</td>\n",
       "      <td>0</td>\n",
       "      <td>0</td>\n",
       "      <td>0</td>\n",
       "      <td>0</td>\n",
       "      <td>0</td>\n",
       "      <td>good</td>\n",
       "    </tr>\n",
       "    <tr>\n",
       "      <th>4</th>\n",
       "      <td>0</td>\n",
       "      <td>0</td>\n",
       "      <td>0</td>\n",
       "      <td>0</td>\n",
       "      <td>0</td>\n",
       "      <td>0</td>\n",
       "      <td>good</td>\n",
       "    </tr>\n",
       "    <tr>\n",
       "      <th>...</th>\n",
       "      <td>...</td>\n",
       "      <td>...</td>\n",
       "      <td>...</td>\n",
       "      <td>...</td>\n",
       "      <td>...</td>\n",
       "      <td>...</td>\n",
       "      <td>...</td>\n",
       "    </tr>\n",
       "    <tr>\n",
       "      <th>13078</th>\n",
       "      <td>0</td>\n",
       "      <td>0</td>\n",
       "      <td>0</td>\n",
       "      <td>0</td>\n",
       "      <td>0</td>\n",
       "      <td>0</td>\n",
       "      <td>good</td>\n",
       "    </tr>\n",
       "    <tr>\n",
       "      <th>13079</th>\n",
       "      <td>0</td>\n",
       "      <td>0</td>\n",
       "      <td>0</td>\n",
       "      <td>0</td>\n",
       "      <td>0</td>\n",
       "      <td>0</td>\n",
       "      <td>good</td>\n",
       "    </tr>\n",
       "    <tr>\n",
       "      <th>13080</th>\n",
       "      <td>0</td>\n",
       "      <td>0</td>\n",
       "      <td>0</td>\n",
       "      <td>0</td>\n",
       "      <td>0</td>\n",
       "      <td>0</td>\n",
       "      <td>good</td>\n",
       "    </tr>\n",
       "    <tr>\n",
       "      <th>13081</th>\n",
       "      <td>0</td>\n",
       "      <td>0</td>\n",
       "      <td>0</td>\n",
       "      <td>0</td>\n",
       "      <td>0</td>\n",
       "      <td>0</td>\n",
       "      <td>good</td>\n",
       "    </tr>\n",
       "    <tr>\n",
       "      <th>13082</th>\n",
       "      <td>0</td>\n",
       "      <td>0</td>\n",
       "      <td>0</td>\n",
       "      <td>0</td>\n",
       "      <td>0</td>\n",
       "      <td>0</td>\n",
       "      <td>good</td>\n",
       "    </tr>\n",
       "  </tbody>\n",
       "</table>\n",
       "<p>13083 rows × 7 columns</p>\n",
       "</div>"
      ],
      "text/plain": [
       "       single_q  double_q  dashes  braces  spaces  badwords class\n",
       "0             0         0       0       0       0         0  good\n",
       "1             0         0       0       0       0         0  good\n",
       "2             0         0       0       0       0         0  good\n",
       "3             0         0       0       0       0         0  good\n",
       "4             0         0       0       0       0         0  good\n",
       "...         ...       ...     ...     ...     ...       ...   ...\n",
       "13078         0         0       0       0       0         0  good\n",
       "13079         0         0       0       0       0         0  good\n",
       "13080         0         0       0       0       0         0  good\n",
       "13081         0         0       0       0       0         0  good\n",
       "13082         0         0       0       0       0         0  good\n",
       "\n",
       "[13083 rows x 7 columns]"
      ]
     },
     "execution_count": 10,
     "metadata": {},
     "output_type": "execute_result"
    }
   ],
   "source": [
    "data_good"
   ]
  },
  {
   "cell_type": "code",
   "execution_count": 11,
   "id": "0856b182",
   "metadata": {},
   "outputs": [],
   "source": [
    "X_good= data_good[features].values\n",
    "X_bad= data_bad[features].values\n",
    "Y_good= data_good['class']\n",
    "Y_bad= data_bad['class']\n",
    "X=np.concatenate((X_good,X_bad))\n",
    "Y=np.concatenate((Y_good,Y_bad))"
   ]
  },
  {
   "cell_type": "code",
   "execution_count": 13,
   "id": "445f9078",
   "metadata": {},
   "outputs": [],
   "source": [
    "scalar = StandardScaler(copy=True, with_mean=True, with_std=True)\n",
    "scalar.fit(X)\n",
    "X = scalar.transform(X)"
   ]
  },
  {
   "cell_type": "code",
   "execution_count": 14,
   "id": "9ba4897a",
   "metadata": {},
   "outputs": [],
   "source": [
    "for i in range(0,len(Y)):\n",
    "  if Y[i] ==\"bad\":\n",
    "    Y[i]=0\n",
    "  else:\n",
    "    Y[i]=1"
   ]
  },
  {
   "cell_type": "code",
   "execution_count": 15,
   "id": "4b48b0a7",
   "metadata": {},
   "outputs": [],
   "source": [
    "features = len(X[0])\n",
    "samples = X.shape[0]\n",
    "train_len = 25\n",
    "input_len = samples - train_len\n",
    "I = np.zeros((samples - train_len, train_len, features))\n",
    "\n",
    "for i in range(input_len):\n",
    "    temp = np.zeros((train_len, features))\n",
    "    for j in range(i, i + train_len - 1):\n",
    "        temp[j-i] = X[j]\n",
    "    I[i] = temp"
   ]
  },
  {
   "cell_type": "code",
   "execution_count": 16,
   "id": "225ada40",
   "metadata": {},
   "outputs": [
    {
     "data": {
      "text/plain": [
       "(18821, 6)"
      ]
     },
     "execution_count": 16,
     "metadata": {},
     "output_type": "execute_result"
    }
   ],
   "source": [
    "X.shape"
   ]
  },
  {
   "cell_type": "code",
   "execution_count": 17,
   "id": "84d24838",
   "metadata": {},
   "outputs": [],
   "source": [
    "X_train, X_test, Y_train, Y_test = train_test_split(I, Y[25:100000], test_size = 0.2)"
   ]
  },
  {
   "cell_type": "code",
   "execution_count": 18,
   "id": "91d1828c",
   "metadata": {},
   "outputs": [],
   "source": [
    "def create_baseline():\n",
    "    model = Sequential()\n",
    "    \n",
    "    model.add(Bidirectional(LSTM(64, activation='tanh', kernel_regularizer='l2')))\n",
    "    model.add(Dense(128, activation = 'relu', kernel_regularizer='l2'))\n",
    "    model.add(Dense(1, activation = 'sigmoid', kernel_regularizer='l2'))\n",
    "    \n",
    "    model.compile(loss = 'binary_crossentropy', optimizer = 'adam', metrics = ['accuracy'])\n",
    "    \n",
    "    return model"
   ]
  },
  {
   "cell_type": "code",
   "execution_count": 19,
   "id": "1ce60064",
   "metadata": {},
   "outputs": [],
   "source": [
    "model = create_baseline()"
   ]
  },
  {
   "cell_type": "code",
   "execution_count": 20,
   "id": "af7abe31",
   "metadata": {},
   "outputs": [
    {
     "name": "stdout",
     "output_type": "stream",
     "text": [
      "Epoch 1/20\n",
      "376/376 [==============================] - 11s 15ms/step - loss: 0.4975 - accuracy: 0.9254 - val_loss: 0.2697 - val_accuracy: 0.9318\n",
      "Epoch 2/20\n",
      "376/376 [==============================] - 4s 11ms/step - loss: 0.2636 - accuracy: 0.9256 - val_loss: 0.2562 - val_accuracy: 0.9309\n",
      "Epoch 3/20\n",
      "376/376 [==============================] - 4s 11ms/step - loss: 0.2677 - accuracy: 0.9235 - val_loss: 0.2741 - val_accuracy: 0.9269\n",
      "Epoch 4/20\n",
      "376/376 [==============================] - 4s 11ms/step - loss: 0.2782 - accuracy: 0.9242 - val_loss: 0.2578 - val_accuracy: 0.9322\n",
      "Epoch 5/20\n",
      "376/376 [==============================] - 5s 12ms/step - loss: 0.2684 - accuracy: 0.9243 - val_loss: 0.2617 - val_accuracy: 0.9295\n",
      "Epoch 6/20\n",
      "376/376 [==============================] - 4s 12ms/step - loss: 0.2707 - accuracy: 0.9246 - val_loss: 0.2499 - val_accuracy: 0.9325\n",
      "Epoch 7/20\n",
      "376/376 [==============================] - 5s 12ms/step - loss: 0.2666 - accuracy: 0.9257 - val_loss: 0.2524 - val_accuracy: 0.9338\n",
      "Epoch 8/20\n",
      "376/376 [==============================] - 5s 12ms/step - loss: 0.2643 - accuracy: 0.9260 - val_loss: 0.2484 - val_accuracy: 0.9332\n",
      "Epoch 9/20\n",
      "376/376 [==============================] - 5s 12ms/step - loss: 0.2658 - accuracy: 0.9254 - val_loss: 0.2491 - val_accuracy: 0.9332\n",
      "Epoch 10/20\n",
      "376/376 [==============================] - 5s 12ms/step - loss: 0.2625 - accuracy: 0.9267 - val_loss: 0.2516 - val_accuracy: 0.9338\n",
      "Epoch 11/20\n",
      "376/376 [==============================] - 5s 12ms/step - loss: 0.2623 - accuracy: 0.9264 - val_loss: 0.2535 - val_accuracy: 0.9335\n",
      "Epoch 12/20\n",
      "376/376 [==============================] - 5s 13ms/step - loss: 0.2632 - accuracy: 0.9266 - val_loss: 0.2452 - val_accuracy: 0.9338\n",
      "Epoch 13/20\n",
      "376/376 [==============================] - 5s 12ms/step - loss: 0.2606 - accuracy: 0.9271 - val_loss: 0.2494 - val_accuracy: 0.9325\n",
      "Epoch 14/20\n",
      "376/376 [==============================] - 5s 12ms/step - loss: 0.2621 - accuracy: 0.9268 - val_loss: 0.2491 - val_accuracy: 0.9328\n",
      "Epoch 15/20\n",
      "376/376 [==============================] - 5s 12ms/step - loss: 0.2630 - accuracy: 0.9259 - val_loss: 0.2436 - val_accuracy: 0.9338\n",
      "Epoch 16/20\n",
      "376/376 [==============================] - 5s 12ms/step - loss: 0.2580 - accuracy: 0.9276 - val_loss: 0.2512 - val_accuracy: 0.9318\n",
      "Epoch 17/20\n",
      "376/376 [==============================] - 5s 12ms/step - loss: 0.2616 - accuracy: 0.9271 - val_loss: 0.2522 - val_accuracy: 0.9318\n",
      "Epoch 18/20\n",
      "376/376 [==============================] - 5s 12ms/step - loss: 0.2649 - accuracy: 0.9262 - val_loss: 0.2442 - val_accuracy: 0.9338\n",
      "Epoch 19/20\n",
      "376/376 [==============================] - 5s 13ms/step - loss: 0.2645 - accuracy: 0.9258 - val_loss: 0.2443 - val_accuracy: 0.9338\n",
      "Epoch 20/20\n",
      "376/376 [==============================] - 5s 13ms/step - loss: 0.2600 - accuracy: 0.9271 - val_loss: 0.2427 - val_accuracy: 0.9338\n"
     ]
    }
   ],
   "source": [
    "history = model.fit(X_train.astype(np.float32), Y_train.astype(np.float32), epochs = 20,validation_split=0.2, verbose = 1)"
   ]
  },
  {
   "cell_type": "code",
   "execution_count": 21,
   "id": "21815181",
   "metadata": {},
   "outputs": [
    {
     "data": {
      "image/png": "[encoded data removed]",
      "text/plain": [
       "<Figure size 432x288 with 1 Axes>"
      ]
     },
     "metadata": {},
     "output_type": "display_data"
    }
   ],
   "source": [
    "# Plot training & validation accuracy values\n",
    "plt.plot(history.history['accuracy'])\n",
    "plt.plot(history.history['val_accuracy'])\n",
    "plt.title('BRNN Model Accuracy')\n",
    "plt.ylabel('Accuracy')\n",
    "plt.xlabel('Epoch')\n",
    "plt.legend(['Train', 'Test'], loc='lower right')\n",
    "#plt.savefig('BRNN Model Accuracy.png')\n",
    "plt.show()"
   ]
  },
  {
   "cell_type": "code",
   "execution_count": 22,
   "id": "0d887e12",
   "metadata": {},
   "outputs": [
    {
     "data": {
      "image/png": "[encoded data removed]",
      "text/plain": [
       "<Figure size 432x288 with 1 Axes>"
      ]
     },
     "metadata": {},
     "output_type": "display_data"
    }
   ],
   "source": [
    "# Plot training & validation loss values\n",
    "plt.plot(history.history['loss'])\n",
    "plt.plot(history.history['val_loss'])\n",
    "plt.title('BRNN Model  Loss')\n",
    "plt.ylabel('Loss')\n",
    "plt.xlabel('Epoch')\n",
    "plt.legend(['Train', 'Test'], loc='upper left')\n",
    "plt.savefig('BRNN Model Loss.png')\n",
    "plt.show()"
   ]
  },
  {
   "cell_type": "code",
   "execution_count": 38,
   "id": "6b2185d5",
   "metadata": {},
   "outputs": [
    {
     "name": "stdout",
     "output_type": "stream",
     "text": [
      "118/118 [==============================] - 1s 5ms/step\n",
      "Wall time: 1.61 s\n"
     ]
    }
   ],
   "source": [
    "%%time\n",
    "predict = model.predict(X_test, verbose=1)"
   ]
  },
  {
   "cell_type": "code",
   "execution_count": 28,
   "id": "c98949b4",
   "metadata": {},
   "outputs": [],
   "source": [
    "tp = 0\n",
    "tn = 0\n",
    "fp = 0\n",
    "fn = 0\n",
    "predictn = predict.flatten().round()\n",
    "predictn = predictn.tolist()\n",
    "Y_testn = Y_test.tolist()\n",
    "for i in range(len(Y_testn)):\n",
    "  if predictn[i]==1 and Y_testn[i]==1:\n",
    "    tp+=1\n",
    "  elif predictn[i]==0 and Y_testn[i]==0:\n",
    "    tn+=1\n",
    "  elif predictn[i]==0 and Y_testn[i]==1:\n",
    "    fp+=1\n",
    "  elif predictn[i]==1 and Y_testn[i]==0:\n",
    "    fn+=1"
   ]
  },
  {
   "cell_type": "code",
   "execution_count": 36,
   "id": "de298d23",
   "metadata": {},
   "outputs": [],
   "source": [
    "tp = 2512\n",
    "tn = 843\n",
    "fp = 143\n",
    "fn = 148"
   ]
  },
  {
   "cell_type": "code",
   "execution_count": 37,
   "id": "a105d300",
   "metadata": {},
   "outputs": [
    {
     "data": {
      "image/png": "[encoded data removed]",
      "text/plain": [
       "<Figure size 432x288 with 2 Axes>"
      ]
     },
     "metadata": {},
     "output_type": "display_data"
    }
   ],
   "source": [
    "to_heat_map =[[tn,fp],[fn,tp]]\n",
    "to_heat_map = pd.DataFrame(to_heat_map, index = [\"bad\",\"good\"],columns = [\"bad\",\"good\"])\n",
    "ax = sns.heatmap(to_heat_map,annot=True, fmt=\"d\")"
   ]
  },
  {
   "cell_type": "code",
   "execution_count": null,
   "id": "41a225f1",
   "metadata": {},
   "outputs": [],
   "source": []
  }
 ],
 "metadata": {
  "kernelspec": {
   "display_name": "Python 3",
   "language": "python",
   "name": "python3"
  },
  "language_info": {
   "codemirror_mode": {
    "name": "ipython",
    "version": 3
   },
   "file_extension": ".py",
   "mimetype": "text/x-python",
   "name": "python",
   "nbconvert_exporter": "python",
   "pygments_lexer": "ipython3",
   "version": "3.8.8"
  }
 },
 "nbformat": 4,
 "nbformat_minor": 5
}
