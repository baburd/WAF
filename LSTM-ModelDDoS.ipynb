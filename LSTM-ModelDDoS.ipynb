{
 "cells": [
  {
   "cell_type": "code",
   "execution_count": 1,
   "id": "d9760aef",
   "metadata": {},
   "outputs": [],
   "source": [
    "import numpy as np\n",
    "import pandas as pd\n",
    "import matplotlib.pyplot as plt\n",
    "\n",
    "import seaborn as sns; sns.set()"
   ]
  },
  {
   "cell_type": "code",
   "execution_count": 2,
   "id": "2f210c69",
   "metadata": {},
   "outputs": [],
   "source": [
    "from keras.models import Sequential, load_model\n",
    "from keras.layers import Dense, LSTM, Bidirectional\n",
    "from keras.utils import plot_model\n",
    "from keras.utils.np_utils import to_categorical\n",
    "from keras.utils import np_utils\n",
    "\n",
    "from sklearn.model_selection import train_test_split\n",
    "from sklearn.preprocessing import LabelEncoder, StandardScaler\n",
    "from sklearn.metrics import confusion_matrix"
   ]
  },
  {
   "cell_type": "code",
   "execution_count": 3,
   "id": "a791ae36",
   "metadata": {},
   "outputs": [],
   "source": [
    "number_of_samples = 21000"
   ]
  },
  {
   "cell_type": "code",
   "execution_count": 4,
   "id": "55ca0b8c",
   "metadata": {},
   "outputs": [],
   "source": [
    "data_attack = pd.read_csv('C:/Users/Dell/Desktop/Thesis/data thesis/only http 4loic.csv',nrows= number_of_samples)"
   ]
  },
  {
   "cell_type": "code",
   "execution_count": 5,
   "id": "504bfa89",
   "metadata": {},
   "outputs": [],
   "source": [
    "data_normal = pd.read_csv('C:/Users/Dell/Desktop/Thesis/data thesis/normal http traffic 2.csv', nrows = number_of_samples)"
   ]
  },
  {
   "cell_type": "code",
   "execution_count": 6,
   "id": "0790c934",
   "metadata": {
    "scrolled": true
   },
   "outputs": [
    {
     "name": "stdout",
     "output_type": "stream",
     "text": [
      "Index(['No.', 'Time', 'Source', 'Destination', 'Protocol', 'Length',\n",
      "       'Epoch Time', 'Time shift for this packet',\n",
      "       'Time delta from previous captured frame',\n",
      "       'Time delta from previous displayed frame',\n",
      "       'Time since reference or first frame', 'Frame Number',\n",
      "       'Frame length on the wire', 'Frame is marked', 'Version',\n",
      "       'Header Length', 'Total Length', 'Reserved bit', 'Dont fragment',\n",
      "       'More fragments', 'Fragment Off1', 'Time to Live', 'Source Port',\n",
      "       'Destination Port', 'Sequence Number', 'Sequence Number.1',\n",
      "       'Next Sequence Number', 'Acknowledgment Number',\n",
      "       'Acknowledgment number (raw)', 'Window', 'Calculated window size',\n",
      "       'Stream index', 'TCP Segment Len', 'Header Length.1',\n",
      "       'Window size scaling factor',\n",
      "       'Time since first frame in this TCP stream',\n",
      "       'Time since previous frame in this TCP stream', 'Request Method',\n",
      "       'Response in frame', 'Length.1', 'class'],\n",
      "      dtype='object')\n"
     ]
    }
   ],
   "source": [
    "print(data_normal.columns)"
   ]
  },
  {
   "cell_type": "code",
   "execution_count": 7,
   "id": "0c9ee276",
   "metadata": {},
   "outputs": [],
   "source": [
    "data_normal.columns=['No.', 'Time', 'Source', 'Destination', 'Protocol', 'Length',\n",
    "       'Epoch Time', 'Time shift for this packet',\n",
    "       'Time delta from previous captured frame',\n",
    "       'Time delta from previous displayed frame',\n",
    "       'Time since reference or first frame', 'Frame Number',\n",
    "       'Frame length on the wire', 'Frame is marked', 'Version',\n",
    "       'Header Length', 'Total Length', 'Reserved bit', 'Dont fragment',\n",
    "       'More fragments', 'Fragment Off1', 'Time to Live', 'Source Port',\n",
    "       'Destination Port', 'Sequence Number', 'Sequence Number.1',\n",
    "       'Next Sequence Number', 'Acknowledgment Number',\n",
    "       'Acknowledgment number (raw)', 'Window', 'Calculated window size',\n",
    "       'Stream index', 'TCP Segment Len', 'Header Length.1',\n",
    "       'Window size scaling factor',\n",
    "       'Time since first frame in this TCP stream',\n",
    "       'Time since previous frame in this TCP stream', 'Request Method',\n",
    "       'Response in frame', 'Length.1', 'class']\n",
    "data_attack.columns=['No.', 'Time', 'Source', 'Destination', 'Protocol', 'Length',\n",
    "       'Epoch Time', 'Time shift for this packet',\n",
    "       'Time delta from previous captured frame',\n",
    "       'Time delta from previous displayed frame',\n",
    "       'Time since reference or first frame', 'Frame Number',\n",
    "       'Frame length on the wire', 'Frame is marked', 'Version',\n",
    "       'Header Length', 'Total Length', 'Reserved bit', 'Dont fragment',\n",
    "       'More fragments', 'Fragment Off1', 'Time to Live', 'Source Port',\n",
    "       'Destination Port', 'Sequence Number', 'Sequence Number.1',\n",
    "       'Next Sequence Number', 'Acknowledgment Number',\n",
    "       'Acknowledgment number (raw)', 'Window', 'Calculated window size',\n",
    "       'Stream index', 'TCP Segment Len', 'Header Length.1',\n",
    "       'Window size scaling factor',\n",
    "       'Time since first frame in this TCP stream',\n",
    "       'Time since previous frame in this TCP stream', 'Request Method',\n",
    "       'Response in frame', 'Length.1', 'class']"
   ]
  },
  {
   "cell_type": "code",
   "execution_count": 8,
   "id": "b0b3d0c7",
   "metadata": {},
   "outputs": [],
   "source": [
    "data_normal=data_normal.drop(['No.', 'Source', 'Destination','Protocol'],axis=1)\n",
    "data_attack=data_attack.drop(['No.', 'Source', 'Destination','Protocol'],axis=1)"
   ]
  },
  {
   "cell_type": "code",
   "execution_count": null,
   "id": "e8695e41",
   "metadata": {},
   "outputs": [],
   "source": [
    " "
   ]
  },
  {
   "cell_type": "code",
   "execution_count": 9,
   "id": "b2abd8ac",
   "metadata": {},
   "outputs": [],
   "source": [
    "features=['Time', 'Length',\n",
    "       'Epoch Time', 'Time shift for this packet',\n",
    "       'Time delta from previous captured frame',\n",
    "       'Time delta from previous displayed frame',\n",
    "       'Time since reference or first frame', 'Frame Number',\n",
    "       'Frame length on the wire', 'Frame is marked', 'Version',\n",
    "       'Header Length', 'Total Length', 'Reserved bit', 'Dont fragment',\n",
    "       'More fragments', 'Fragment Off1', 'Time to Live', 'Source Port',\n",
    "       'Destination Port', 'Sequence Number', 'Sequence Number.1',\n",
    "       'Next Sequence Number', 'Acknowledgment Number',\n",
    "       'Acknowledgment number (raw)', 'Window', 'Calculated window size',\n",
    "       'Stream index', 'TCP Segment Len', 'Header Length.1',\n",
    "       'Window size scaling factor',\n",
    "       'Time since first frame in this TCP stream',\n",
    "       'Time since previous frame in this TCP stream', 'Request Method',\n",
    "       'Response in frame', 'Length.1']"
   ]
  },
  {
   "cell_type": "code",
   "execution_count": 10,
   "id": "2e74c000",
   "metadata": {},
   "outputs": [],
   "source": [
    "X_normal= data_normal[features].values\n",
    "X_attack= data_attack[features].values\n",
    "Y_normal= data_normal['class']\n",
    "Y_attack= data_attack['class']\n",
    "X=np.concatenate((X_normal,X_attack))\n",
    "Y=np.concatenate((Y_normal,Y_attack))"
   ]
  },
  {
   "cell_type": "code",
   "execution_count": 11,
   "id": "7d12df67",
   "metadata": {},
   "outputs": [],
   "source": [
    "scalar = StandardScaler(copy=True, with_mean=True, with_std=True)\n",
    "scalar.fit(X)\n",
    "X = scalar.transform(X)"
   ]
  },
  {
   "cell_type": "code",
   "execution_count": 12,
   "id": "9ce686e8",
   "metadata": {},
   "outputs": [],
   "source": [
    "for i in range(0,len(Y)):\n",
    "  if Y[i] ==\"attack\":\n",
    "    Y[i]=0\n",
    "  else:\n",
    "    Y[i]=1"
   ]
  },
  {
   "cell_type": "code",
   "execution_count": 13,
   "id": "8af07bed",
   "metadata": {},
   "outputs": [],
   "source": [
    "features = len(X[0])\n",
    "samples = X.shape[0]\n",
    "train_len = 25\n",
    "input_len = samples - train_len\n",
    "I = np.zeros((samples - train_len, train_len, features))\n",
    "\n",
    "for i in range(input_len):\n",
    "    temp = np.zeros((train_len, features))\n",
    "    for j in range(i, i + train_len - 1):\n",
    "        temp[j-i] = X[j]\n",
    "    I[i] = temp"
   ]
  },
  {
   "cell_type": "code",
   "execution_count": 14,
   "id": "6b22ff6d",
   "metadata": {},
   "outputs": [
    {
     "data": {
      "text/plain": [
       "(42000, 36)"
      ]
     },
     "execution_count": 14,
     "metadata": {},
     "output_type": "execute_result"
    }
   ],
   "source": [
    "X.shape"
   ]
  },
  {
   "cell_type": "code",
   "execution_count": 15,
   "id": "59f68744",
   "metadata": {},
   "outputs": [],
   "source": [
    "X_train, X_test, Y_train, Y_test = train_test_split(I, Y[25:42000], test_size = 0.2)"
   ]
  },
  {
   "cell_type": "code",
   "execution_count": 16,
   "id": "bcbaa170",
   "metadata": {},
   "outputs": [],
   "source": [
    "def create_baseline():\n",
    "    model = Sequential()\n",
    "    \n",
    "    model.add(Bidirectional(LSTM(64, activation='tanh', kernel_regularizer='l2')))\n",
    "    model.add(Dense(128, activation = 'relu', kernel_regularizer='l2'))\n",
    "    model.add(Dense(1, activation = 'sigmoid', kernel_regularizer='l2'))\n",
    "    \n",
    "    model.compile(loss = 'binary_crossentropy', optimizer = 'adam', metrics = ['accuracy'])\n",
    "    \n",
    "    return model"
   ]
  },
  {
   "cell_type": "code",
   "execution_count": 17,
   "id": "d18faa8c",
   "metadata": {},
   "outputs": [],
   "source": [
    "model = create_baseline()"
   ]
  },
  {
   "cell_type": "code",
   "execution_count": 20,
   "id": "c8ed743a",
   "metadata": {},
   "outputs": [
    {
     "name": "stdout",
     "output_type": "stream",
     "text": [
      "Epoch 1/15\n",
      "840/840 [==============================] - 11s 13ms/step - loss: 0.1441 - accuracy: 0.9674 - val_loss: 0.1564 - val_accuracy: 0.9677\n",
      "Epoch 2/15\n",
      "840/840 [==============================] - 11s 13ms/step - loss: 0.1495 - accuracy: 0.9676 - val_loss: 0.1431 - val_accuracy: 0.9686\n",
      "Epoch 3/15\n",
      "840/840 [==============================] - 11s 13ms/step - loss: 0.1458 - accuracy: 0.9676 - val_loss: 0.1449 - val_accuracy: 0.9686\n",
      "Epoch 4/15\n",
      "840/840 [==============================] - 11s 13ms/step - loss: 0.1431 - accuracy: 0.9677 - val_loss: 0.1421 - val_accuracy: 0.9658\n",
      "Epoch 5/15\n",
      "840/840 [==============================] - 11s 13ms/step - loss: 0.1397 - accuracy: 0.9675 - val_loss: 0.1395 - val_accuracy: 0.9677\n",
      "Epoch 6/15\n",
      "840/840 [==============================] - 11s 13ms/step - loss: 0.1387 - accuracy: 0.9675 - val_loss: 0.1364 - val_accuracy: 0.9686\n",
      "Epoch 7/15\n",
      "840/840 [==============================] - 11s 13ms/step - loss: 0.1386 - accuracy: 0.9673 - val_loss: 0.1344 - val_accuracy: 0.9686\n",
      "Epoch 8/15\n",
      "840/840 [==============================] - 11s 13ms/step - loss: 0.1426 - accuracy: 0.9674 - val_loss: 0.1499 - val_accuracy: 0.9687\n",
      "Epoch 9/15\n",
      "840/840 [==============================] - 11s 13ms/step - loss: 0.1439 - accuracy: 0.9674 - val_loss: 0.1378 - val_accuracy: 0.9687\n",
      "Epoch 10/15\n",
      "840/840 [==============================] - 11s 13ms/step - loss: 0.1443 - accuracy: 0.9676 - val_loss: 0.1350 - val_accuracy: 0.9687\n",
      "Epoch 11/15\n",
      "840/840 [==============================] - 11s 13ms/step - loss: 0.1434 - accuracy: 0.9669 - val_loss: 0.1394 - val_accuracy: 0.9687\n",
      "Epoch 12/15\n",
      "840/840 [==============================] - 11s 13ms/step - loss: 0.1351 - accuracy: 0.9671 - val_loss: 0.1299 - val_accuracy: 0.9686\n",
      "Epoch 13/15\n",
      "840/840 [==============================] - 11s 13ms/step - loss: 0.1175 - accuracy: 0.9676 - val_loss: 0.1054 - val_accuracy: 0.9687\n",
      "Epoch 14/15\n",
      "840/840 [==============================] - 11s 13ms/step - loss: 0.1175 - accuracy: 0.9677 - val_loss: 0.1191 - val_accuracy: 0.9681\n",
      "Epoch 15/15\n",
      "840/840 [==============================] - 11s 13ms/step - loss: 0.1150 - accuracy: 0.9677 - val_loss: 0.1152 - val_accuracy: 0.9687\n"
     ]
    }
   ],
   "source": [
    "history = model.fit(X_train.astype(np.float32), Y_train.astype(np.float32), epochs = 15,validation_split=0.2, verbose = 1)"
   ]
  },
  {
   "cell_type": "code",
   "execution_count": 21,
   "id": "9c794f0e",
   "metadata": {},
   "outputs": [
    {
     "data": {
      "image/png": "[encoded data removed]",
      "text/plain": [
       "<Figure size 432x288 with 1 Axes>"
      ]
     },
     "metadata": {},
     "output_type": "display_data"
    }
   ],
   "source": [
    "\n",
    "plt.plot(history.history['accuracy'])\n",
    "plt.plot(history.history['val_accuracy'])\n",
    "plt.title('LSTM model For DDoS detection HTTP traffic')\n",
    "plt.ylabel('Accuracy')\n",
    "plt.xlabel('Epoch')\n",
    "plt.legend(['Train', 'Test'], loc='lower right')\n",
    "\n",
    "plt.show()"
   ]
  },
  {
   "cell_type": "code",
   "execution_count": 22,
   "id": "60fe2ad7",
   "metadata": {},
   "outputs": [
    {
     "data": {
      "image/png": "[encoded data removed]",
      "text/plain": [
       "<Figure size 432x288 with 1 Axes>"
      ]
     },
     "metadata": {},
     "output_type": "display_data"
    }
   ],
   "source": [
    "# Plot training & validation loss values\n",
    "plt.plot(history.history['loss'])\n",
    "plt.plot(history.history['val_loss'])\n",
    "plt.title('LSTM DDoS loss in HTTP Dataset ')\n",
    "plt.ylabel('Loss')\n",
    "plt.xlabel('Epoch')\n",
    "plt.legend(['Train', 'Test'], loc='upper left')\n",
    "plt.savefig('BRNN Model Loss.png')\n",
    "plt.show()"
   ]
  },
  {
   "cell_type": "code",
   "execution_count": 23,
   "id": "be20e157",
   "metadata": {},
   "outputs": [
    {
     "name": "stdout",
     "output_type": "stream",
     "text": [
      "263/263 [==============================] - 2s 5ms/step\n"
     ]
    }
   ],
   "source": [
    "predict = model.predict(X_test, verbose=1)"
   ]
  },
  {
   "cell_type": "code",
   "execution_count": 24,
   "id": "58f2a8f7",
   "metadata": {},
   "outputs": [],
   "source": [
    "tp = 0\n",
    "tn = 0\n",
    "fp = 0\n",
    "fn = 0\n",
    "predictn = predict.flatten().round()\n",
    "predictn = predictn.tolist()\n",
    "Y_testn = Y_test.tolist()\n",
    "for i in range(len(Y_testn)):\n",
    "  if predictn[i]==1 and Y_testn[i]==1:\n",
    "    tp+=1\n",
    "  elif predictn[i]==0 and Y_testn[i]==0:\n",
    "    tn+=1\n",
    "  elif predictn[i]==0 and Y_testn[i]==1:\n",
    "    fp+=1\n",
    "  elif predictn[i]==1 and Y_testn[i]==0:\n",
    "    fn+=1"
   ]
  },
  {
   "cell_type": "code",
   "execution_count": 25,
   "id": "ffda0035",
   "metadata": {},
   "outputs": [
    {
     "data": {
      "image/png": "[encoded data removed]",
      "text/plain": [
       "<Figure size 432x288 with 2 Axes>"
      ]
     },
     "metadata": {},
     "output_type": "display_data"
    }
   ],
   "source": [
    "to_heat_map =[[tn,fp],[fn,tp]]\n",
    "to_heat_map = pd.DataFrame(to_heat_map, index = [\"attack\",\"normal\"],columns = [\"attack\",\"normal\"])\n",
    "ax = sns.heatmap(to_heat_map,annot=True, fmt=\"d\")"
   ]
  }
 ],
 "metadata": {
  "kernelspec": {
   "display_name": "Python 3",
   "language": "python",
   "name": "python3"
  },
  "language_info": {
   "codemirror_mode": {
    "name": "ipython",
    "version": 3
   },
   "file_extension": ".py",
   "mimetype": "text/x-python",
   "name": "python",
   "nbconvert_exporter": "python",
   "pygments_lexer": "ipython3",
   "version": "3.8.8"
  }
 },
 "nbformat": 4,
 "nbformat_minor": 5
}
